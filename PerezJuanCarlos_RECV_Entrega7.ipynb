{
  "nbformat": 4,
  "nbformat_minor": 0,
  "metadata": {
    "colab": {
      "name": "PerezJuanCarlos_RECV_Entrega7.ipynb",
      "provenance": [],
      "authorship_tag": "ABX9TyMuTUGivcmW7qVJe6Wom9yM"
    },
    "kernelspec": {
      "name": "python3",
      "display_name": "Python 3"
    },
    "language_info": {
      "name": "python"
    },
    "accelerator": "GPU"
  },
  "cells": [
    {
      "cell_type": "code",
      "metadata": {
        "id": "3A951h0J__jX"
      },
      "source": [
        "!unzip fashion-mnist.zip"
      ],
      "execution_count": null,
      "outputs": []
    },
    {
      "cell_type": "code",
      "metadata": {
        "id": "NKvojWbMCYY3"
      },
      "source": [
        "from glob import glob \n",
        "import numpy as np\n",
        "import matplotlib.pyplot as plt\n"
      ],
      "execution_count": 2,
      "outputs": []
    },
    {
      "cell_type": "code",
      "metadata": {
        "id": "dshOcStTCzxA"
      },
      "source": [
        "from PIL import Image\n",
        "import torch\n",
        "from torch.autograd import Variable"
      ],
      "execution_count": 15,
      "outputs": []
    },
    {
      "cell_type": "code",
      "metadata": {
        "id": "W3I8PF6yC177"
      },
      "source": [
        "train_files = glob('./fashion-mnist/train/*/*.png')\n",
        "valid_files = glob('./fashion-mnist/valid/*/*.png')\n",
        "test_files = glob('./fashion-mnist/test/*/*.png')\n",
        "\n",
        "np.random.shuffle(train_files)\n",
        "np.random.shuffle(valid_files)\n",
        "np.random.shuffle(test_files)\n"
      ],
      "execution_count": 9,
      "outputs": []
    },
    {
      "cell_type": "code",
      "metadata": {
        "colab": {
          "base_uri": "https://localhost:8080/",
          "height": 35
        },
        "id": "HXfeMdQ_C_oM",
        "outputId": "18cf996d-e9bc-4de5-923d-a20150efa2aa"
      },
      "source": [
        "train_files[0]"
      ],
      "execution_count": 10,
      "outputs": [
        {
          "output_type": "execute_result",
          "data": {
            "application/vnd.google.colaboratory.intrinsic+json": {
              "type": "string"
            },
            "text/plain": [
              "'./fashion-mnist/train/7/38528.png'"
            ]
          },
          "metadata": {},
          "execution_count": 10
        }
      ]
    },
    {
      "cell_type": "code",
      "metadata": {
        "colab": {
          "base_uri": "https://localhost:8080/"
        },
        "id": "hs9wQe9KDAuF",
        "outputId": "f6ffc2a4-7c2f-41c2-c3b6-79bfa99de028"
      },
      "source": [
        "len(train_files), len(valid_files), len(test_files)"
      ],
      "execution_count": 11,
      "outputs": [
        {
          "output_type": "execute_result",
          "data": {
            "text/plain": [
              "(55000, 10000, 5000)"
            ]
          },
          "metadata": {},
          "execution_count": 11
        }
      ]
    },
    {
      "cell_type": "code",
      "metadata": {
        "id": "hvILHuX7EeIL"
      },
      "source": [
        "N_train = len(train_files)\n",
        "X_train = []\n",
        "Y_train = []\n",
        "\n",
        "for i, train_file in enumerate(train_files):\n",
        "  Y_train.append( int(train_file.split('/')[3]) )\n",
        "  X_train.append(np.array(Image.open(train_file)))\n",
        "\n",
        "\n",
        "\n",
        "N_valid = len(valid_files)\n",
        "X_valid = []\n",
        "Y_valid = []\n",
        "\n",
        "for i, valid_file in enumerate(valid_files):\n",
        "  Y_valid.append( int(valid_file.split('/')[3]) )\n",
        "  X_valid.append( np.array(Image.open(valid_file)) )\n",
        "\n",
        "N_test = len(test_files)\n",
        "X_test = []\n",
        "Y_test = []\n",
        "\n",
        "for i, test_file in enumerate(test_files):\n",
        "  Y_test.append( int(test_file.split('/')[3]) )\n",
        "  X_test.append( np.array(Image.open(test_file)) )\n"
      ],
      "execution_count": 13,
      "outputs": []
    },
    {
      "cell_type": "code",
      "metadata": {
        "colab": {
          "base_uri": "https://localhost:8080/",
          "height": 482
        },
        "id": "13IHF-7cEnt2",
        "outputId": "74b9abf7-6dd0-439c-d248-e2d0e51fb9be"
      },
      "source": [
        "ig = plt.figure(figsize=(8,8))\n",
        "for i in range(4):\n",
        "  plt.subplot(2,2,i+1)\n",
        "  plt.imshow(X_test[i*15])\n",
        "  plt.title(Y_test[i*15])\n",
        "  plt.axis(False)\n",
        "plt.show()"
      ],
      "execution_count": 14,
      "outputs": [
        {
          "output_type": "display_data",
          "data": {
            "image/png": "[encoded data removed]",
            "text/plain": [
              "<Figure size 576x576 with 4 Axes>"
            ]
          },
          "metadata": {
            "needs_background": "light"
          }
        }
      ]
    },
    {
      "cell_type": "code",
      "metadata": {
        "colab": {
          "base_uri": "https://localhost:8080/"
        },
        "id": "dMObZ_vxFSVo",
        "outputId": "84998e34-900c-4a9d-ccd8-bfd01fd521de"
      },
      "source": [
        "X_train = Variable(torch.from_numpy(np.array(X_train))).float()\n",
        "Y_train = Variable(torch.from_numpy(np.array(Y_train))).long()\n",
        "\n",
        "X_valid = Variable(torch.from_numpy(np.array(X_valid))).float()\n",
        "Y_valid = Variable(torch.from_numpy(np.array(Y_valid))).long()\n",
        "\n",
        "X_test = Variable(torch.from_numpy(np.array(X_test))).float()\n",
        "Y_test = Variable(torch.from_numpy(np.array(Y_test))).long()\n",
        "\n",
        "X_train.data.size()"
      ],
      "execution_count": 16,
      "outputs": [
        {
          "output_type": "execute_result",
          "data": {
            "text/plain": [
              "torch.Size([55000, 28, 28])"
            ]
          },
          "metadata": {},
          "execution_count": 16
        }
      ]
    },
    {
      "cell_type": "code",
      "metadata": {
        "id": "LbkBv3ORF13a"
      },
      "source": [
        "batch_size = 32\n",
        "\n",
        "train_ds = torch.utils.data.TensorDataset(X_train, Y_train)\n",
        "train_dl = torch.utils.data.DataLoader(train_ds, batch_size=batch_size, shuffle=True)"
      ],
      "execution_count": 17,
      "outputs": []
    },
    {
      "cell_type": "markdown",
      "metadata": {
        "id": "9e_pvIzTPp1n"
      },
      "source": [
        "Debe ser diferente a la utilizada en clase.\n",
        "\n",
        "Tener al menos dos capas convolucionales.\n",
        "\n",
        "Tener capas de Max o Global Average Pooling."
      ]
    },
    {
      "cell_type": "code",
      "metadata": {
        "colab": {
          "base_uri": "https://localhost:8080/"
        },
        "id": "O5VDJ3ciF7Lb",
        "outputId": "cc816f87-43a6-4da4-8215-ed234b13ad1d"
      },
      "source": [
        "\n",
        "#--- Definimos la CNN\n",
        "\n",
        "model = torch.nn.Sequential(\n",
        "  torch.nn.Conv2d(1, 16, kernel_size=5, stride=1, padding=2),\n",
        "  # ( (28-5+2*2)/1 ) + 1 = 28   -> 28*28*16\n",
        "\n",
        "  torch.nn.ReLU(),\n",
        "\n",
        "  torch.nn.MaxPool2d(kernel_size=2),\n",
        "  # 28/2 = 14                 -> 14*14*16\n",
        "\n",
        "  torch.nn.Dropout(p=0.2),\n",
        "\n",
        "  torch.nn.Conv2d(16, 32, kernel_size=5, stride=1, padding=2),\n",
        "  # ( (14-5+2*2)/1 ) + 1 = 14   -> 14*14*32\n",
        "\n",
        "  torch.nn.ReLU(),\n",
        "\n",
        "  torch.nn.MaxPool2d(kernel_size=2),\n",
        "  # 14/2 = 7                 -> 7*7*32\n",
        "\n",
        "  torch.nn.Dropout(p=0.2), \n",
        "\n",
        "  torch.nn.Flatten(),\n",
        "  torch.nn.Linear(7*7*32, 10)\n",
        ")\n",
        "model"
      ],
      "execution_count": 18,
      "outputs": [
        {
          "output_type": "execute_result",
          "data": {
            "text/plain": [
              "Sequential(\n",
              "  (0): Conv2d(1, 16, kernel_size=(5, 5), stride=(1, 1), padding=(2, 2))\n",
              "  (1): ReLU()\n",
              "  (2): MaxPool2d(kernel_size=2, stride=2, padding=0, dilation=1, ceil_mode=False)\n",
              "  (3): Dropout(p=0.2, inplace=False)\n",
              "  (4): Conv2d(16, 32, kernel_size=(5, 5), stride=(1, 1), padding=(2, 2))\n",
              "  (5): ReLU()\n",
              "  (6): MaxPool2d(kernel_size=2, stride=2, padding=0, dilation=1, ceil_mode=False)\n",
              "  (7): Dropout(p=0.2, inplace=False)\n",
              "  (8): Flatten(start_dim=1, end_dim=-1)\n",
              "  (9): Linear(in_features=1568, out_features=10, bias=True)\n",
              ")"
            ]
          },
          "metadata": {},
          "execution_count": 18
        }
      ]
    },
    {
      "cell_type": "code",
      "metadata": {
        "id": "bFV3eRWPN50y"
      },
      "source": [
        ""
      ],
      "execution_count": null,
      "outputs": []
    }
  ]
}